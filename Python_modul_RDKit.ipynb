{
  "cells": [
    {
      "cell_type": "markdown",
      "metadata": {
        "id": "XH4b0pCV7HBx"
      },
      "source": [
        "**Autor:** Matea Turalija Reščić\n",
        "\n",
        "**Literatura:** https://group.miletic.net/hr/nastava/materijali/python-modul-rdkit/"
      ]
    },
    {
      "cell_type": "markdown",
      "metadata": {
        "id": "F8cWO7wbVRrn"
      },
      "source": [
        "# Uvod u RDKit"
      ]
    },
    {
      "cell_type": "markdown",
      "metadata": {
        "id": "c9VPFaC8v7ek"
      },
      "source": [
        "U programskom jeziku Python, napisat ćemo programsku skriptu za crtanje spojeva koristeći njihov zapis u [formatu SMILES](https://group.miletic.net/hr/nastava/materijali/smiles-format/). U nastavku je isječak programskog koda koji koristi module `Chem` i `Draw` za crtanje molekule butana:"
      ]
    },
    {
      "cell_type": "code",
      "execution_count": null,
      "metadata": {
        "id": "GicltTQVV6gB"
      },
      "outputs": [],
      "source": [
        "from rdkit import Chem\n",
        "from rdkit.Chem import Draw\n",
        "\n",
        "# Definira molekulu iz SMILES zapisa\n",
        "molekula = Chem.MolFromSmiles('CCCC')\n",
        "\n",
        "# Crta molekulu\n",
        "Draw.MolToImage(molekula)"
      ]
    },
    {
      "cell_type": "markdown",
      "metadata": {
        "id": "NCy2Ndd72eXV"
      },
      "source": [
        "**Napomena:**\n",
        "U Jupyter bilježnicama, jednom izvršeni `import` ostaje aktivan tijekom cijele sesije. To znači da, ako ste u prethodnoj ćeliji već izvršili `import Chem` i `import Draw`, oni će biti dostupni i u svim narednim ćelijama. Nema potrebe ponavljati `import` naredbe u svakoj ćeliji, osim ako ponovno pokrenete kernel ili započnete novu sesiju."
      ]
    },
    {
      "cell_type": "markdown",
      "metadata": {
        "id": "1mYXsjbiwTGU"
      },
      "source": [
        "**ZADATAK**\n",
        "\n",
        "U Python programskom jeziku nacrtajte sljedeće kemijske spojeve: [aceton](https://en.wikipedia.org/wiki/Acetone), [benzen](https://en.wikipedia.org/wiki/Benzene) i [aspirin](https://en.wikipedia.org/wiki/Aspirin)."
      ]
    },
    {
      "cell_type": "code",
      "execution_count": null,
      "metadata": {
        "id": "jUJyPGAIXJ7i"
      },
      "outputs": [],
      "source": [
        "# aceton\n",
        "aceton = Chem.MolFromSmiles('CC(=O)C')\n",
        "Draw.MolToImage(aceton)"
      ]
    },
    {
      "cell_type": "code",
      "execution_count": null,
      "metadata": {
        "id": "8AcxDiOnX9pk"
      },
      "outputs": [],
      "source": [
        "# benzen\n",
        "benzen = Chem.MolFromSmiles('c1ccccc1')\n",
        "Draw.MolToImage(benzen)"
      ]
    },
    {
      "cell_type": "code",
      "execution_count": null,
      "metadata": {
        "id": "v0GHozzLYgHN"
      },
      "outputs": [],
      "source": [
        "# aspirin\n",
        "aspirin = Chem.MolFromSmiles('O=C(C)Oc1ccccc1C(=O)O')\n",
        "Draw.MolToImage(aspirin)"
      ]
    },
    {
      "cell_type": "markdown",
      "metadata": {
        "id": "4Kdj8B2xY_0A"
      },
      "source": [
        "## Više slika molekula"
      ]
    },
    {
      "cell_type": "markdown",
      "metadata": {
        "id": "C1p8rzsrEGBC"
      },
      "source": [
        "Želimo li nacrtati dvije molekule jednu do druge, morat ćemo kreirati SMILES listu u kojoj ćemo pohraniti SMILES zapis molekula. Zatim ćemo pomoću petlje `for` kreirati slike molekula. To možemo postići na sljedeći način:"
      ]
    },
    {
      "cell_type": "code",
      "execution_count": null,
      "metadata": {
        "id": "SKhJvIsOEPvX"
      },
      "outputs": [],
      "source": [
        "smiles_list = ['CC(=O)C', 'C1=CC=CC=C1']\n",
        "molekula_list = []\n",
        "\n",
        "for smiles in smiles_list:\n",
        "  molekule = Chem.MolFromSmiles(smiles)\n",
        "  molekula_list.append(molekule)\n",
        "\n",
        "Draw.MolsToGridImage(molekula_list, molsPerRow=2)"
      ]
    },
    {
      "cell_type": "markdown",
      "metadata": {
        "id": "GZQ_G4H8FnKe"
      },
      "source": [
        "**ZADATAK**\n",
        "\n",
        "1. Nacrtajte četiri aminokiseline [glicin](https://en.wikipedia.org/wiki/Glycine), [fenilalanin](https://en.wikipedia.org/wiki/Phenylalanine), [histidin](https://en.wikipedia.org/wiki/Histidine) i [cistein](https://en.wikipedia.org/wiki/Cysteine) tako da se nalaze na istoj slici poredane jedna ispod druge.\n",
        "\n",
        "2. Prilagodite prethodni zadatak tako da imate dva retka, svaki s dvije slike molekula."
      ]
    },
    {
      "cell_type": "code",
      "execution_count": null,
      "metadata": {
        "id": "-VWD0saZZ3_f"
      },
      "outputs": [],
      "source": [
        "lista = ['C(C(=O)O)N', 'c1ccc(cc1)C[C@@H](C(=O)O)N', 'O=C([C@H](CC1=CNC=N1)N)O', 'C([C@@H](C(=O)O)N)S']\n",
        "m_list = []\n",
        "\n",
        "for x in lista:\n",
        "  m = Chem.MolFromSmiles(x)\n",
        "  m_list.append(m)\n",
        "\n",
        "Draw.MolsToGridImage(m_list, molsPerRow=1) # u drugom zadatku promijeniti molsPerRow=2"
      ]
    },
    {
      "cell_type": "markdown",
      "metadata": {
        "id": "u-0nyQC2ej7a"
      },
      "source": [
        "## Ispis SMILES zapisa"
      ]
    },
    {
      "cell_type": "markdown",
      "metadata": {
        "id": "D-4oniUb3ieO"
      },
      "source": [
        "Prvo provjerimo kakvog je tipa objekt pohranjenog u varijabli `molekula`. To možemo provjeriti funkcijom `type()`:"
      ]
    },
    {
      "cell_type": "code",
      "execution_count": null,
      "metadata": {
        "id": "xOGcRWYLelZ7"
      },
      "outputs": [],
      "source": [
        "molekula = Chem.MolFromSmiles('CCCC')\n",
        "type(molekula)"
      ]
    },
    {
      "cell_type": "markdown",
      "metadata": {
        "id": "n5U0G7hY4dzC"
      },
      "source": [
        "`rdkit.Chem.rdchem.Mol` je klasa koja predstavlja molekulu u RDKitu. Ova klasa ima različite metode i atribute koji omogućuju pristup raznim informacijama o molekuli, uključujući atomske podatke, veze između atoma i druge relevantne podatke o molekularnoj strukturi."
      ]
    },
    {
      "cell_type": "markdown",
      "metadata": {
        "id": "uTNOXPun4nC_"
      },
      "source": [
        "Želimo li pretvoriti objekt molekula u znakovni niz u formatu SMILES, napisat ćemo sljedeće:"
      ]
    },
    {
      "cell_type": "code",
      "execution_count": null,
      "metadata": {
        "id": "UYgV6tO1gzJt"
      },
      "outputs": [],
      "source": [
        "smiles = Chem.MolToSmiles(molekula)\n",
        "\n",
        "print('Tip varijable smiles:', type(smiles))\n",
        "print('Smiles zapis', smiles)"
      ]
    },
    {
      "cell_type": "markdown",
      "metadata": {
        "id": "p9DFanXehr4-"
      },
      "source": [
        "## Molekulski opisnici"
      ]
    },
    {
      "cell_type": "markdown",
      "metadata": {
        "id": "QKu2hvKP8kCn"
      },
      "source": [
        "Molekulski opisnici su kvantitativne reprezentacije određenih karakteristika molekula. Omogućavaju konverziju kompleksnih molekularnih struktura u numeričke podatke, čime se olakšava analiza i modeliranje.\n",
        "\n",
        "Iz modula `Chem` ćemo uvesti pripadni modul `Descriptors` za pristup molekulskim opisnicima. Primjer ispod koristi nekoliko različitih opisnika:\n",
        "* `MolWt` izračunava molarnu masu (engl. *molecular weight*),\n",
        "* `HeavyAtomCount` broji atome (oni koji nisu vodik) u molekuli,\n",
        "* `NumValenceElectrons` računa ukupan broj valentnih elektrona u molekuli."
      ]
    },
    {
      "cell_type": "code",
      "execution_count": null,
      "metadata": {
        "id": "qFB1fuyAhu8O"
      },
      "outputs": [],
      "source": [
        "from rdkit.Chem import Descriptors\n",
        "\n",
        "# Definira molekulu iz SMILES zapisa\n",
        "molekula = Chem.MolFromSmiles('CCCC')\n",
        "\n",
        "# Izračun i ispis opisnika\n",
        "molarna_masa = Descriptors.MolWt(molekula)\n",
        "broj_atoma_u_molekuli = Descriptors.HeavyAtomCount(molekula)\n",
        "valentni_elektroni = Descriptors.NumValenceElectrons(molekula)\n",
        "\n",
        "print(\"Molarna masa:\", molarna_masa, \"g/mol\")\n",
        "print(\"Broj atoma u molekuli:\", broj_atoma_u_molekuli)\n",
        "print(\"Broj valentnih elektrona:\", valentni_elektroni)"
      ]
    },
    {
      "cell_type": "markdown",
      "metadata": {
        "id": "gncPE_LZ9gsA"
      },
      "source": [
        "**ZADATAK**\n",
        "\n",
        "Nacrtajte [mravlju kiselinu](https://en.wikipedia.org/wiki/Formic_acid) (metanska kiselina). Zatim ispišite na ekran molarnu masu, broj atoma u molekuli i broj valentnih elektrona."
      ]
    },
    {
      "cell_type": "code",
      "execution_count": null,
      "metadata": {
        "id": "gClwiXcniKbj"
      },
      "outputs": [],
      "source": [
        "mravlja_kiselina = Chem.MolFromSmiles('O=CO')\n",
        "\n",
        "display(Draw.MolToImage(mravlja_kiselina))\n",
        "\n",
        "molarna_masa = Descriptors.MolWt(mravlja_kiselina)\n",
        "broj_atoma = Descriptors.HeavyAtomCount(mravlja_kiselina)\n",
        "val_el = Descriptors.NumValenceElectrons(mravlja_kiselina)\n",
        "\n",
        "print(\"Molarna masa:\", molarna_masa, \"g/mol\")\n",
        "print(\"Broj atoma u molekuli:\", broj_atoma)\n",
        "print(\"Broj valentnih elektrona:\", val_el)"
      ]
    },
    {
      "cell_type": "markdown",
      "metadata": {
        "id": "ZWZc2OY2-zNX"
      },
      "source": [
        "**Napomena:** Jupyter bilježnice prikazuju posljednji evaluirani rezultat u ćeliji. Ako imate više naredbi unutar iste ćelije, Jupyter će prikazati samo posljednji rezultat, osim ako eksplicitno ne pozovete funkcije poput `display()` za prikazivanje slika ili rezultata."
      ]
    },
    {
      "cell_type": "markdown",
      "metadata": {
        "id": "3fzRshJK_R7m"
      },
      "source": [
        "Ponekad će biti korisno zaokružiti numeričke rezultate na određeni broj decimala. To možemo postići korištenjem funkcije `round()` na sljedeći način:"
      ]
    },
    {
      "cell_type": "code",
      "execution_count": null,
      "metadata": {
        "id": "l4I-8EBUjvuM"
      },
      "outputs": [],
      "source": [
        "import numpy as np\n",
        "\n",
        "zaokruzena_molarna_masa = np.round(molarna_masa, decimals = 1)\n",
        "\n",
        "print(\"Molarna masa mravlje kiseline:\", molarna_masa, \"g/mol\")\n",
        "print(\"Zaokružena molarna masa mravlje kiseline:\", zaokruzena_molarna_masa, \"g/mol\")"
      ]
    },
    {
      "cell_type": "markdown",
      "metadata": {
        "id": "LJaUDBdwm2eI"
      },
      "source": [
        "## Pohrana slikovne datoteke"
      ]
    },
    {
      "cell_type": "markdown",
      "metadata": {
        "id": "Kop1cbM1BicB"
      },
      "source": [
        "Slike generiranih molekula mogu se pohraniti na dva načina:"
      ]
    },
    {
      "cell_type": "code",
      "execution_count": null,
      "metadata": {
        "id": "ssO_JGSom3eY"
      },
      "outputs": [],
      "source": [
        "Draw.MolToFile(mravlja_kiselina, \"slika1.png\", size=(500,500))"
      ]
    },
    {
      "cell_type": "code",
      "execution_count": null,
      "metadata": {
        "id": "0VGFCGEUnche"
      },
      "outputs": [],
      "source": [
        "slika = Draw.MolToImage(mravlja_kiselina)\n",
        "slika.save(\"slika2.png\", size=(500,500))"
      ]
    },
    {
      "cell_type": "markdown",
      "metadata": {
        "id": "qki6GSqSCrXL"
      },
      "source": [
        "**ZADATAK:**\n",
        "\n",
        "Nacrtajte molekulu djelatne tvari lijeka naziva [diklofenak](https://en.wikipedia.org/wiki/Diclofenac). Pronađite o kojoj je djelatnoj tvari riječ i njezin popularni naziv. Sliku molekule, veličine 600x400 točaka, pohranite tako da se na samoj slici ispod nacrtane molekule nalazi i naziv lijeka. Koristite argument `legend` za ispis naziva lijeka ispod slike."
      ]
    },
    {
      "cell_type": "code",
      "execution_count": null,
      "metadata": {
        "id": "Uy-iGKRPn2iL"
      },
      "outputs": [],
      "source": [
        "voltaren = Chem.MolFromSmiles('O=C(O)Cc1ccccc1Nc2c(Cl)cccc2Cl')\n",
        "Draw.MolToFile(voltaren, \"voltaren.png\", size=(600,400), legend = \"VOLTAREN\")"
      ]
    }
  ],
  "metadata": {
    "colab": {
      "provenance": []
    },
    "kernelspec": {
      "display_name": "Python 3",
      "name": "python3"
    },
    "language_info": {
      "name": "python"
    }
  },
  "nbformat": 4,
  "nbformat_minor": 0
}
