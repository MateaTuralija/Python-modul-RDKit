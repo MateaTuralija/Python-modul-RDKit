{
  "nbformat": 4,
  "nbformat_minor": 0,
  "metadata": {
    "colab": {
      "provenance": [],
      "toc_visible": true
    },
    "kernelspec": {
      "name": "python3",
      "display_name": "Python 3"
    },
    "language_info": {
      "name": "python"
    }
  },
  "cells": [
    {
      "cell_type": "markdown",
      "source": [
        "# Uvod u RDKit"
      ],
      "metadata": {
        "id": "F8cWO7wbVRrn"
      }
    },
    {
      "cell_type": "markdown",
      "source": [
        "U programskom jeziku Python, napisat ćemo programsku skriptu za crtanje spojeva koristeći njihov zapis u [formatu SMILES](https://group.miletic.net/hr/nastava/materijali/smiles-format/). U nastavku je isječak programskog koda koji koristi module Chem i Draw za crtanje molekule:"
      ],
      "metadata": {
        "id": "c9VPFaC8v7ek"
      }
    },
    {
      "cell_type": "code",
      "source": [
        "from rdkit import Chem\n",
        "from rdkit.Chem import Draw\n",
        "\n",
        "molekula = Chem.MolFromSmiles('CCCC')\n",
        "Draw.MolToImage(molekula)"
      ],
      "metadata": {
        "colab": {
          "base_uri": "https://localhost:8080/",
          "height": 317
        },
        "id": "GicltTQVV6gB",
        "outputId": "432212f5-0794-49ed-e861-afb9632817a9"
      },
      "execution_count": null,
      "outputs": [
        {
          "output_type": "execute_result",
          "data": {
            "text/plain": [
              "<PIL.PngImagePlugin.PngImageFile image mode=RGB size=300x300>"
            ],
            "image/png": "[encoded data removed]"
          },
          "metadata": {},
          "execution_count": 2
        }
      ]
    },
    {
      "cell_type": "markdown",
      "source": [
        "**Zadatak**\n",
        "\n",
        "U Python programskom jeziku nacrtajte sljedeće kemijske spojeve: [aceton](https://en.wikipedia.org/wiki/Acetone), [benzen](https://en.wikipedia.org/wiki/Benzene) i [aspirin](https://en.wikipedia.org/wiki/Aspirin)."
      ],
      "metadata": {
        "id": "1mYXsjbiwTGU"
      }
    },
    {
      "cell_type": "code",
      "source": [
        "from rdkit import Chem\n",
        "from rdkit.Chem import Draw\n",
        "\n",
        "molekula = Chem.MolFromSmiles('CC(=O)OC1=CC=CC=C1C(=O)O')\n",
        "Draw.MolToImage(molekula)"
      ],
      "metadata": {
        "id": "xnZquAG-WZF0"
      },
      "execution_count": null,
      "outputs": []
    },
    {
      "cell_type": "code",
      "source": [
        "from rdkit import Chem\n",
        "from rdkit.Chem import Draw\n",
        "\n",
        "m = Chem.MolFromSmiles('CC(=O)C')\n",
        "Draw.MolToImage(m)"
      ],
      "metadata": {
        "id": "jUJyPGAIXJ7i"
      },
      "execution_count": null,
      "outputs": []
    },
    {
      "cell_type": "code",
      "source": [
        "from rdkit import Chem\n",
        "from rdkit.Chem import Draw\n",
        "\n",
        "mol = Chem.MolFromSmiles('c1ccccc1')\n",
        "Draw.MolToImage(mol)"
      ],
      "metadata": {
        "colab": {
          "base_uri": "https://localhost:8080/",
          "height": 317
        },
        "id": "8AcxDiOnX9pk",
        "outputId": "0b5b4a99-5a9c-4c55-932a-73743c6a73c8"
      },
      "execution_count": null,
      "outputs": [
        {
          "output_type": "execute_result",
          "data": {
            "text/plain": [
              "<PIL.PngImagePlugin.PngImageFile image mode=RGB size=300x300>"
            ],
            "image/png": "[encoded data removed]"
          },
          "metadata": {},
          "execution_count": 5
        }
      ]
    },
    {
      "cell_type": "code",
      "source": [
        "from rdkit import Chem\n",
        "from rdkit.Chem import Draw\n",
        "\n",
        "mol = Chem.MolFromSmiles('O=C(C)Oc1ccccc1C(=O)O')\n",
        "Draw.MolToImage(mol)"
      ],
      "metadata": {
        "colab": {
          "base_uri": "https://localhost:8080/",
          "height": 317
        },
        "id": "v0GHozzLYgHN",
        "outputId": "a53f5c1e-4752-4219-d2a4-9c74cddeada0"
      },
      "execution_count": null,
      "outputs": [
        {
          "output_type": "execute_result",
          "data": {
            "text/plain": [
              "<PIL.PngImagePlugin.PngImageFile image mode=RGB size=300x300>"
            ],
            "image/png": "[encoded data removed]"
          },
          "metadata": {},
          "execution_count": 6
        }
      ]
    },
    {
      "cell_type": "markdown",
      "source": [
        "## Više slika"
      ],
      "metadata": {
        "id": "4Kdj8B2xY_0A"
      }
    },
    {
      "cell_type": "code",
      "source": [
        "from rdkit import Chem\n",
        "from rdkit.Chem import Draw\n",
        "\n",
        "smiles_list = ['CC(=O)C', 'C1=CC=CC=C1']\n",
        "m_list = []\n",
        "\n",
        "for smiles in smiles_list:\n",
        "  m = Chem.MolFromSmiles(smiles)\n",
        "  m_list.append(m)\n",
        "\n",
        "Draw.MolsToGridImage(m_list, molsPerRow=2)"
      ],
      "metadata": {
        "id": "HDfVu7VEZCbS"
      },
      "execution_count": null,
      "outputs": []
    },
    {
      "cell_type": "code",
      "source": [
        "from rdkit import Chem\n",
        "from rdkit.Chem import Draw\n",
        "\n",
        "lista = ['C(C(=O)O)N', 'c1ccc(cc1)C[C@@H](C(=O)O)N', 'O=C([C@H](CC1=CNC=N1)N)O', 'C([C@@H](C(=O)O)N)S']\n",
        "m_list = []\n",
        "\n",
        "for x in lista:\n",
        "  m = Chem.MolFromSmiles(x)\n",
        "  m_list.append(m)\n",
        "\n",
        "Draw.MolsToGridImage(m_list, molsPerRow=2)"
      ],
      "metadata": {
        "colab": {
          "base_uri": "https://localhost:8080/",
          "height": 417
        },
        "id": "-VWD0saZZ3_f",
        "outputId": "854b8fd3-3fd4-40d1-e37e-0668433d2ec5"
      },
      "execution_count": null,
      "outputs": [
        {
          "output_type": "execute_result",
          "data": {
            "image/png": "[encoded data removed]",
            "text/plain": [
              "<IPython.core.display.Image object>"
            ]
          },
          "metadata": {},
          "execution_count": 10
        }
      ]
    },
    {
      "cell_type": "markdown",
      "source": [
        "## Ispis SMILES zapisa"
      ],
      "metadata": {
        "id": "u-0nyQC2ej7a"
      }
    },
    {
      "cell_type": "code",
      "source": [
        "from rdkit import Chem\n",
        "\n",
        "molekula = Chem.MolFromSmiles('CCCC')\n",
        "type(molekula)"
      ],
      "metadata": {
        "colab": {
          "base_uri": "https://localhost:8080/"
        },
        "id": "xOGcRWYLelZ7",
        "outputId": "7f7b0a86-5835-4657-b589-66e88a574f75"
      },
      "execution_count": null,
      "outputs": [
        {
          "output_type": "execute_result",
          "data": {
            "text/plain": [
              "rdkit.Chem.rdchem.Mol"
            ]
          },
          "metadata": {},
          "execution_count": 12
        }
      ]
    },
    {
      "cell_type": "code",
      "source": [
        "from rdkit import Chem\n",
        "\n",
        "molekula = Chem.MolFromSmiles('CCCC')\n",
        "smiles = Chem.MolToSmiles(molekula)\n",
        "type(smiles)"
      ],
      "metadata": {
        "colab": {
          "base_uri": "https://localhost:8080/"
        },
        "id": "UYgV6tO1gzJt",
        "outputId": "f6380c23-a404-4b6b-9a15-1f67bf9864c2"
      },
      "execution_count": null,
      "outputs": [
        {
          "output_type": "execute_result",
          "data": {
            "text/plain": [
              "str"
            ]
          },
          "metadata": {},
          "execution_count": 14
        }
      ]
    },
    {
      "cell_type": "code",
      "source": [
        "from rdkit import Chem\n",
        "\n",
        "molekula = Chem.MolFromSmiles('CCCC')\n",
        "smiles = Chem.MolToSmiles(molekula)\n",
        "print(smiles)"
      ],
      "metadata": {
        "colab": {
          "base_uri": "https://localhost:8080/"
        },
        "id": "csT2ve05hNOP",
        "outputId": "f2c2998f-ccee-4e12-bc25-8b49900a49c3"
      },
      "execution_count": null,
      "outputs": [
        {
          "output_type": "stream",
          "name": "stdout",
          "text": [
            "CCCC\n"
          ]
        }
      ]
    },
    {
      "cell_type": "markdown",
      "source": [
        "## Molekulski opisnici"
      ],
      "metadata": {
        "id": "p9DFanXehr4-"
      }
    },
    {
      "cell_type": "code",
      "source": [
        "from rdkit import Chem\n",
        "from rdkit.Chem import Descriptors\n",
        "\n",
        "# Definira molekulu iz SMILES zapisa\n",
        "molekula = Chem.MolFromSmiles('CCCC')\n",
        "\n",
        "# Izračun i ispis opisnika\n",
        "molarna_masa = Descriptors.MolWt(molekula)\n",
        "broj_atoma_u_molekuli = Descriptors.HeavyAtomCount(molekula)\n",
        "valentni_elektroni = Descriptors.NumValenceElectrons(molekula)\n",
        "\n",
        "print(\"Molarna masa:\", molarna_masa, \"g/mol\")\n",
        "print(\"Broj atoma u molekuli:\", broj_atoma_u_molekuli)\n",
        "print(\"Broj valentnih elektrona:\", valentni_elektroni)"
      ],
      "metadata": {
        "id": "qFB1fuyAhu8O"
      },
      "execution_count": null,
      "outputs": []
    },
    {
      "cell_type": "code",
      "source": [
        "from rdkit import Chem\n",
        "from rdkit.Chem import Descriptors\n",
        "\n",
        "molekula = Chem.MolFromSmiles('O=CO')\n",
        "\n",
        "molarna_masa = Descriptors.MolWt(molekula)\n",
        "broj_atoma = Descriptors.HeavyAtomCount(molekula)\n",
        "val_el = Descriptors.NumValenceElectrons(molekula)\n",
        "\n",
        "print(\"Molarna masa:\", molarna_masa, \"g/mol\")\n",
        "print(\"Broj atoma u molekuli:\", broj_atoma)\n",
        "print(\"Broj valentnih elektrona:\", val_el)"
      ],
      "metadata": {
        "colab": {
          "base_uri": "https://localhost:8080/"
        },
        "id": "gClwiXcniKbj",
        "outputId": "d1ae72f6-9133-461a-c5d6-15f8587019ee"
      },
      "execution_count": null,
      "outputs": [
        {
          "output_type": "stream",
          "name": "stdout",
          "text": [
            "Molarna masa: 46.025 g/mol\n",
            "Broj atoma u molekuli: 3\n",
            "Broj valentnih elektrona: 18\n"
          ]
        }
      ]
    },
    {
      "cell_type": "code",
      "source": [
        "from rdkit import Chem\n",
        "from rdkit.Chem import Descriptors\n",
        "import numpy as np\n",
        "\n",
        "molekula1 = Chem.MolFromSmiles('O=CO')\n",
        "\n",
        "molarna_masa = Descriptors.MolWt(molekula1)\n",
        "broj_atoma = Descriptors.HeavyAtomCount(molekula1)\n",
        "val_el = Descriptors.NumValenceElectrons(molekula1)\n",
        "\n",
        "zaokruzena_molarna_masa = np.round(molarna_masa, decimals = 1)\n",
        "\n",
        "print(\"Molarna masa mravlje kiseline:\", zaokruzena_molarna_masa, \"g/mol\")\n",
        "print(\"Broj atoma u molekuli:\", broj_atoma)\n",
        "print(\"Broj valentnih elektrona:\", val_el, \"\\n\")\n",
        "\n",
        "print(\"Molarna masa mravlje kiseline:\", molarna_masa, \"g/mol\")\n",
        "print(\"Broj atoma u molekuli:\", broj_atoma)\n",
        "print(\"Broj valentnih elektrona:\", val_el)"
      ],
      "metadata": {
        "colab": {
          "base_uri": "https://localhost:8080/"
        },
        "id": "l4I-8EBUjvuM",
        "outputId": "43c617c0-92b8-4638-fcb4-d9d8d36e8608"
      },
      "execution_count": null,
      "outputs": [
        {
          "output_type": "stream",
          "name": "stdout",
          "text": [
            "Molarna masa mravlje kiseline: 46.0 g/mol\n",
            "Broj atoma u molekuli: 3\n",
            "Broj valentnih elektrona: 18 \n",
            "\n",
            "Molarna masa mravlje kiseline: 46.025 g/mol\n",
            "Broj atoma u molekuli: 3\n",
            "Broj valentnih elektrona: 18\n"
          ]
        }
      ]
    },
    {
      "cell_type": "markdown",
      "source": [
        "## Pohrana slikovne datoteke"
      ],
      "metadata": {
        "id": "LJaUDBdwm2eI"
      }
    },
    {
      "cell_type": "code",
      "source": [
        "from rdkit import Chem\n",
        "from rdkit.Chem import Draw\n",
        "\n",
        "molekula = Chem.MolFromSmiles('C(=O)O')\n",
        "Draw.MolToFile(molekula, \"slika1.png\", size=(500,500))"
      ],
      "metadata": {
        "id": "ssO_JGSom3eY"
      },
      "execution_count": null,
      "outputs": []
    },
    {
      "cell_type": "code",
      "source": [
        "from rdkit import Chem\n",
        "from rdkit.Chem import Draw\n",
        "\n",
        "smiles = 'C(=O)O'\n",
        "molekula = Chem.MolFromSmiles(smiles)\n",
        "slika = Draw.MolToImage(molekula)\n",
        "slika.save(\"slika2.png\", size=(500,500))"
      ],
      "metadata": {
        "id": "0VGFCGEUnche"
      },
      "execution_count": null,
      "outputs": []
    },
    {
      "cell_type": "code",
      "source": [
        "from rdkit import Chem\n",
        "from rdkit.Chem import Draw\n",
        "\n",
        "molekula = Chem.MolFromSmiles('O=C(O)Cc1ccccc1Nc2c(Cl)cccc2Cl')\n",
        "Draw.MolToFile(molekula, \"voltaren.png\", size=(600,400), legend = \"VOLTAREN\")"
      ],
      "metadata": {
        "id": "Uy-iGKRPn2iL"
      },
      "execution_count": null,
      "outputs": []
    },
    {
      "cell_type": "code",
      "source": [],
      "metadata": {
        "id": "N8Y0MVYKparR"
      },
      "execution_count": null,
      "outputs": []
    }
  ]
}